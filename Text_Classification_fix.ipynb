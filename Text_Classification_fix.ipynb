{
  "cells": [
    {
      "cell_type": "markdown",
      "metadata": {
        "id": "IvTbRDhicqI1"
      },
      "source": [
        "# NLP Product Category Analysis"
      ]
    },
    {
      "cell_type": "code",
      "execution_count": 1,
      "metadata": {
        "colab": {
          "base_uri": "https://localhost:8080/"
        },
        "id": "uLSH_-B4cqI6",
        "outputId": "97e771af-55dc-486c-e899-1d90595d7840"
      },
      "outputs": [
        {
          "name": "stdout",
          "output_type": "stream",
          "text": [
            "WARNING:tensorflow:From c:\\Users\\Hasnan Ramadhan\\anaconda3\\Lib\\site-packages\\keras\\src\\losses.py:2976: The name tf.losses.sparse_softmax_cross_entropy is deprecated. Please use tf.compat.v1.losses.sparse_softmax_cross_entropy instead.\n",
            "\n"
          ]
        },
        {
          "name": "stderr",
          "output_type": "stream",
          "text": [
            "[nltk_data] Downloading package punkt to C:\\Users\\Hasnan\n",
            "[nltk_data]     Ramadhan\\AppData\\Roaming\\nltk_data...\n",
            "[nltk_data]   Package punkt is already up-to-date!\n"
          ]
        },
        {
          "data": {
            "text/plain": [
              "True"
            ]
          },
          "execution_count": 1,
          "metadata": {},
          "output_type": "execute_result"
        }
      ],
      "source": [
        "# Import Library\n",
        "import pandas as pd\n",
        "from sklearn.model_selection import train_test_split\n",
        "import tensorflow as tf\n",
        "from tensorflow.keras.preprocessing.text import Tokenizer\n",
        "from tensorflow.keras.preprocessing.sequence import pad_sequences\n",
        "import nltk\n",
        "nltk.download('punkt')"
      ]
    },
    {
      "cell_type": "markdown",
      "metadata": {
        "id": "-MpEOQajcqI8"
      },
      "source": [
        "## Import Dataset"
      ]
    },
    {
      "cell_type": "code",
      "execution_count": 2,
      "metadata": {
        "id": "DVgXw86WcqI8"
      },
      "outputs": [],
      "source": [
        "# Import dataset\n",
        "data = 'ecommerceDataset.csv'\n",
        "df = pd.read_csv(data)"
      ]
    },
    {
      "cell_type": "code",
      "execution_count": 3,
      "metadata": {
        "colab": {
          "base_uri": "https://localhost:8080/",
          "height": 425
        },
        "id": "OYzsH5D4cqI8",
        "outputId": "95d20375-a829-47d4-defa-9135ad52b3d2"
      },
      "outputs": [
        {
          "data": {
            "text/html": [
              "<div>\n",
              "<style scoped>\n",
              "    .dataframe tbody tr th:only-of-type {\n",
              "        vertical-align: middle;\n",
              "    }\n",
              "\n",
              "    .dataframe tbody tr th {\n",
              "        vertical-align: top;\n",
              "    }\n",
              "\n",
              "    .dataframe thead th {\n",
              "        text-align: right;\n",
              "    }\n",
              "</style>\n",
              "<table border=\"1\" class=\"dataframe\">\n",
              "  <thead>\n",
              "    <tr style=\"text-align: right;\">\n",
              "      <th></th>\n",
              "      <th>Household</th>\n",
              "      <th>Paper Plane Design Framed Wall Hanging Motivational Office Decor Art Prints (8.7 X 8.7 inch) - Set of 4 Painting made up in synthetic frame with uv textured print which gives multi effects and attracts towards it. This is an special series of paintings which makes your wall very beautiful and gives a royal touch. This painting is ready to hang, you would be proud to possess this unique painting that is a niche apart. We use only the most modern and efficient printing technology on our prints, with only the and inks and precision epson, roland and hp printers. This innovative hd printing technique results in durable and spectacular looking prints of the highest that last a lifetime. We print solely with top-notch 100% inks, to achieve brilliant and true colours. Due to their high level of uv resistance, our prints retain their beautiful colours for many years. Add colour and style to your living space with this digitally printed painting. Some are for pleasure and some for eternal bliss.so bring home this elegant print that is lushed with rich colors that makes it nothing but sheer elegance to be to your friends and family.it would be treasured forever by whoever your lucky recipient is. Liven up your place with these intriguing paintings that are high definition hd graphic digital prints for home, office or any room.</th>\n",
              "    </tr>\n",
              "  </thead>\n",
              "  <tbody>\n",
              "    <tr>\n",
              "      <th>0</th>\n",
              "      <td>Household</td>\n",
              "      <td>SAF 'Floral' Framed Painting (Wood, 30 inch x ...</td>\n",
              "    </tr>\n",
              "    <tr>\n",
              "      <th>1</th>\n",
              "      <td>Household</td>\n",
              "      <td>SAF 'UV Textured Modern Art Print Framed' Pain...</td>\n",
              "    </tr>\n",
              "    <tr>\n",
              "      <th>2</th>\n",
              "      <td>Household</td>\n",
              "      <td>SAF Flower Print Framed Painting (Synthetic, 1...</td>\n",
              "    </tr>\n",
              "    <tr>\n",
              "      <th>3</th>\n",
              "      <td>Household</td>\n",
              "      <td>Incredible Gifts India Wooden Happy Birthday U...</td>\n",
              "    </tr>\n",
              "    <tr>\n",
              "      <th>4</th>\n",
              "      <td>Household</td>\n",
              "      <td>Pitaara Box Romantic Venice Canvas Painting 6m...</td>\n",
              "    </tr>\n",
              "  </tbody>\n",
              "</table>\n",
              "</div>"
            ],
            "text/plain": [
              "   Household  \\\n",
              "0  Household   \n",
              "1  Household   \n",
              "2  Household   \n",
              "3  Household   \n",
              "4  Household   \n",
              "\n",
              "  Paper Plane Design Framed Wall Hanging Motivational Office Decor Art Prints (8.7 X 8.7 inch) - Set of 4 Painting made up in synthetic frame with uv textured print which gives multi effects and attracts towards it. This is an special series of paintings which makes your wall very beautiful and gives a royal touch. This painting is ready to hang, you would be proud to possess this unique painting that is a niche apart. We use only the most modern and efficient printing technology on our prints, with only the and inks and precision epson, roland and hp printers. This innovative hd printing technique results in durable and spectacular looking prints of the highest that last a lifetime. We print solely with top-notch 100% inks, to achieve brilliant and true colours. Due to their high level of uv resistance, our prints retain their beautiful colours for many years. Add colour and style to your living space with this digitally printed painting. Some are for pleasure and some for eternal bliss.so bring home this elegant print that is lushed with rich colors that makes it nothing but sheer elegance to be to your friends and family.it would be treasured forever by whoever your lucky recipient is. Liven up your place with these intriguing paintings that are high definition hd graphic digital prints for home, office or any room.  \n",
              "0  SAF 'Floral' Framed Painting (Wood, 30 inch x ...                                                                                                                                                                                                                                                                                                                                                                                                                                                                                                                                                                                                                                                                                                                                                                                                                                                                                                                                                                                                                                                                                                                                                                                                                                                                                                                                          \n",
              "1  SAF 'UV Textured Modern Art Print Framed' Pain...                                                                                                                                                                                                                                                                                                                                                                                                                                                                                                                                                                                                                                                                                                                                                                                                                                                                                                                                                                                                                                                                                                                                                                                                                                                                                                                                          \n",
              "2  SAF Flower Print Framed Painting (Synthetic, 1...                                                                                                                                                                                                                                                                                                                                                                                                                                                                                                                                                                                                                                                                                                                                                                                                                                                                                                                                                                                                                                                                                                                                                                                                                                                                                                                                          \n",
              "3  Incredible Gifts India Wooden Happy Birthday U...                                                                                                                                                                                                                                                                                                                                                                                                                                                                                                                                                                                                                                                                                                                                                                                                                                                                                                                                                                                                                                                                                                                                                                                                                                                                                                                                          \n",
              "4  Pitaara Box Romantic Venice Canvas Painting 6m...                                                                                                                                                                                                                                                                                                                                                                                                                                                                                                                                                                                                                                                                                                                                                                                                                                                                                                                                                                                                                                                                                                                                                                                                                                                                                                                                          "
            ]
          },
          "execution_count": 3,
          "metadata": {},
          "output_type": "execute_result"
        }
      ],
      "source": [
        "df.head()"
      ]
    },
    {
      "cell_type": "markdown",
      "metadata": {
        "id": "1ZIgnZyTcqI9"
      },
      "source": [
        "## Data Cleaning and EDA"
      ]
    },
    {
      "cell_type": "code",
      "execution_count": 4,
      "metadata": {
        "id": "7DWkt-qMcqI9"
      },
      "outputs": [],
      "source": [
        "df.rename(columns = {'Household':'category'}, inplace = True)"
      ]
    },
    {
      "cell_type": "code",
      "execution_count": 5,
      "metadata": {
        "colab": {
          "base_uri": "https://localhost:8080/",
          "height": 425
        },
        "id": "DTpYZWbtcqI9",
        "outputId": "45b3852d-e6e8-4ac8-f494-32d174ce06d2"
      },
      "outputs": [
        {
          "data": {
            "text/html": [
              "<div>\n",
              "<style scoped>\n",
              "    .dataframe tbody tr th:only-of-type {\n",
              "        vertical-align: middle;\n",
              "    }\n",
              "\n",
              "    .dataframe tbody tr th {\n",
              "        vertical-align: top;\n",
              "    }\n",
              "\n",
              "    .dataframe thead th {\n",
              "        text-align: right;\n",
              "    }\n",
              "</style>\n",
              "<table border=\"1\" class=\"dataframe\">\n",
              "  <thead>\n",
              "    <tr style=\"text-align: right;\">\n",
              "      <th></th>\n",
              "      <th>category</th>\n",
              "      <th>Paper Plane Design Framed Wall Hanging Motivational Office Decor Art Prints (8.7 X 8.7 inch) - Set of 4 Painting made up in synthetic frame with uv textured print which gives multi effects and attracts towards it. This is an special series of paintings which makes your wall very beautiful and gives a royal touch. This painting is ready to hang, you would be proud to possess this unique painting that is a niche apart. We use only the most modern and efficient printing technology on our prints, with only the and inks and precision epson, roland and hp printers. This innovative hd printing technique results in durable and spectacular looking prints of the highest that last a lifetime. We print solely with top-notch 100% inks, to achieve brilliant and true colours. Due to their high level of uv resistance, our prints retain their beautiful colours for many years. Add colour and style to your living space with this digitally printed painting. Some are for pleasure and some for eternal bliss.so bring home this elegant print that is lushed with rich colors that makes it nothing but sheer elegance to be to your friends and family.it would be treasured forever by whoever your lucky recipient is. Liven up your place with these intriguing paintings that are high definition hd graphic digital prints for home, office or any room.</th>\n",
              "    </tr>\n",
              "  </thead>\n",
              "  <tbody>\n",
              "    <tr>\n",
              "      <th>0</th>\n",
              "      <td>Household</td>\n",
              "      <td>SAF 'Floral' Framed Painting (Wood, 30 inch x ...</td>\n",
              "    </tr>\n",
              "    <tr>\n",
              "      <th>1</th>\n",
              "      <td>Household</td>\n",
              "      <td>SAF 'UV Textured Modern Art Print Framed' Pain...</td>\n",
              "    </tr>\n",
              "    <tr>\n",
              "      <th>2</th>\n",
              "      <td>Household</td>\n",
              "      <td>SAF Flower Print Framed Painting (Synthetic, 1...</td>\n",
              "    </tr>\n",
              "    <tr>\n",
              "      <th>3</th>\n",
              "      <td>Household</td>\n",
              "      <td>Incredible Gifts India Wooden Happy Birthday U...</td>\n",
              "    </tr>\n",
              "    <tr>\n",
              "      <th>4</th>\n",
              "      <td>Household</td>\n",
              "      <td>Pitaara Box Romantic Venice Canvas Painting 6m...</td>\n",
              "    </tr>\n",
              "  </tbody>\n",
              "</table>\n",
              "</div>"
            ],
            "text/plain": [
              "    category  \\\n",
              "0  Household   \n",
              "1  Household   \n",
              "2  Household   \n",
              "3  Household   \n",
              "4  Household   \n",
              "\n",
              "  Paper Plane Design Framed Wall Hanging Motivational Office Decor Art Prints (8.7 X 8.7 inch) - Set of 4 Painting made up in synthetic frame with uv textured print which gives multi effects and attracts towards it. This is an special series of paintings which makes your wall very beautiful and gives a royal touch. This painting is ready to hang, you would be proud to possess this unique painting that is a niche apart. We use only the most modern and efficient printing technology on our prints, with only the and inks and precision epson, roland and hp printers. This innovative hd printing technique results in durable and spectacular looking prints of the highest that last a lifetime. We print solely with top-notch 100% inks, to achieve brilliant and true colours. Due to their high level of uv resistance, our prints retain their beautiful colours for many years. Add colour and style to your living space with this digitally printed painting. Some are for pleasure and some for eternal bliss.so bring home this elegant print that is lushed with rich colors that makes it nothing but sheer elegance to be to your friends and family.it would be treasured forever by whoever your lucky recipient is. Liven up your place with these intriguing paintings that are high definition hd graphic digital prints for home, office or any room.  \n",
              "0  SAF 'Floral' Framed Painting (Wood, 30 inch x ...                                                                                                                                                                                                                                                                                                                                                                                                                                                                                                                                                                                                                                                                                                                                                                                                                                                                                                                                                                                                                                                                                                                                                                                                                                                                                                                                          \n",
              "1  SAF 'UV Textured Modern Art Print Framed' Pain...                                                                                                                                                                                                                                                                                                                                                                                                                                                                                                                                                                                                                                                                                                                                                                                                                                                                                                                                                                                                                                                                                                                                                                                                                                                                                                                                          \n",
              "2  SAF Flower Print Framed Painting (Synthetic, 1...                                                                                                                                                                                                                                                                                                                                                                                                                                                                                                                                                                                                                                                                                                                                                                                                                                                                                                                                                                                                                                                                                                                                                                                                                                                                                                                                          \n",
              "3  Incredible Gifts India Wooden Happy Birthday U...                                                                                                                                                                                                                                                                                                                                                                                                                                                                                                                                                                                                                                                                                                                                                                                                                                                                                                                                                                                                                                                                                                                                                                                                                                                                                                                                          \n",
              "4  Pitaara Box Romantic Venice Canvas Painting 6m...                                                                                                                                                                                                                                                                                                                                                                                                                                                                                                                                                                                                                                                                                                                                                                                                                                                                                                                                                                                                                                                                                                                                                                                                                                                                                                                                          "
            ]
          },
          "execution_count": 5,
          "metadata": {},
          "output_type": "execute_result"
        }
      ],
      "source": [
        "df.head()"
      ]
    },
    {
      "cell_type": "code",
      "execution_count": 6,
      "metadata": {
        "id": "Ims_L-1BcqI-"
      },
      "outputs": [],
      "source": [
        "df.rename(columns= {'Paper Plane Design Framed Wall Hanging Motivational Office Decor Art Prints (8.7 X 8.7 inch) - Set of 4 Painting made up in synthetic frame with uv textured print which gives multi effects and attracts towards it. This is an special series of paintings which makes your wall very beautiful and gives a royal touch. This painting is ready to hang, you would be proud to possess this unique painting that is a niche apart. We use only the most modern and efficient printing technology on our prints, with only the and inks and precision epson, roland and hp printers. This innovative hd printing technique results in durable and spectacular looking prints of the highest that last a lifetime. We print solely with top-notch 100% inks, to achieve brilliant and true colours. Due to their high level of uv resistance, our prints retain their beautiful colours for many years. Add colour and style to your living space with this digitally printed painting. Some are for pleasure and some for eternal bliss.so bring home this elegant print that is lushed with rich colors that makes it nothing but sheer elegance to be to your friends and family.it would be treasured forever by whoever your lucky recipient is. Liven up your place with these intriguing paintings that are high definition hd graphic digital prints for home, office or any room.' : 'Text Description'}, inplace = True)"
      ]
    },
    {
      "cell_type": "code",
      "execution_count": 7,
      "metadata": {
        "colab": {
          "base_uri": "https://localhost:8080/",
          "height": 204
        },
        "id": "yo-rnXvWcqI-",
        "outputId": "34894ee5-e6b9-499c-8b9c-618ae3c57c89"
      },
      "outputs": [
        {
          "data": {
            "text/html": [
              "<div>\n",
              "<style scoped>\n",
              "    .dataframe tbody tr th:only-of-type {\n",
              "        vertical-align: middle;\n",
              "    }\n",
              "\n",
              "    .dataframe tbody tr th {\n",
              "        vertical-align: top;\n",
              "    }\n",
              "\n",
              "    .dataframe thead th {\n",
              "        text-align: right;\n",
              "    }\n",
              "</style>\n",
              "<table border=\"1\" class=\"dataframe\">\n",
              "  <thead>\n",
              "    <tr style=\"text-align: right;\">\n",
              "      <th></th>\n",
              "      <th>category</th>\n",
              "      <th>Text Description</th>\n",
              "    </tr>\n",
              "  </thead>\n",
              "  <tbody>\n",
              "    <tr>\n",
              "      <th>50419</th>\n",
              "      <td>Electronics</td>\n",
              "      <td>Strontium MicroSD Class 10 8GB Memory Card (Bl...</td>\n",
              "    </tr>\n",
              "    <tr>\n",
              "      <th>50420</th>\n",
              "      <td>Electronics</td>\n",
              "      <td>CrossBeats Wave Waterproof Bluetooth Wireless ...</td>\n",
              "    </tr>\n",
              "    <tr>\n",
              "      <th>50421</th>\n",
              "      <td>Electronics</td>\n",
              "      <td>Karbonn Titanium Wind W4 (White) Karbonn Titan...</td>\n",
              "    </tr>\n",
              "    <tr>\n",
              "      <th>50422</th>\n",
              "      <td>Electronics</td>\n",
              "      <td>Samsung Guru FM Plus (SM-B110E/D, Black) Colou...</td>\n",
              "    </tr>\n",
              "    <tr>\n",
              "      <th>50423</th>\n",
              "      <td>Electronics</td>\n",
              "      <td>Micromax Canvas Win W121 (White)</td>\n",
              "    </tr>\n",
              "  </tbody>\n",
              "</table>\n",
              "</div>"
            ],
            "text/plain": [
              "          category                                   Text Description\n",
              "50419  Electronics  Strontium MicroSD Class 10 8GB Memory Card (Bl...\n",
              "50420  Electronics  CrossBeats Wave Waterproof Bluetooth Wireless ...\n",
              "50421  Electronics  Karbonn Titanium Wind W4 (White) Karbonn Titan...\n",
              "50422  Electronics  Samsung Guru FM Plus (SM-B110E/D, Black) Colou...\n",
              "50423  Electronics                   Micromax Canvas Win W121 (White)"
            ]
          },
          "execution_count": 7,
          "metadata": {},
          "output_type": "execute_result"
        }
      ],
      "source": [
        "df.tail()"
      ]
    },
    {
      "cell_type": "code",
      "execution_count": 8,
      "metadata": {
        "colab": {
          "base_uri": "https://localhost:8080/"
        },
        "id": "uM3awDaQcqI-",
        "outputId": "f527f602-28e1-4eb0-b689-0e96e9fec6f7"
      },
      "outputs": [
        {
          "data": {
            "text/plain": [
              "category            0\n",
              "Text Description    1\n",
              "dtype: int64"
            ]
          },
          "execution_count": 8,
          "metadata": {},
          "output_type": "execute_result"
        }
      ],
      "source": [
        "df.isnull().sum()"
      ]
    },
    {
      "cell_type": "markdown",
      "metadata": {
        "id": "fHoINqIqcqJA"
      },
      "source": [
        "## Preprocessing"
      ]
    },
    {
      "cell_type": "code",
      "execution_count": 9,
      "metadata": {
        "id": "YkSVL5SqcqJA"
      },
      "outputs": [],
      "source": [
        "df_copy = df.copy()"
      ]
    },
    {
      "cell_type": "code",
      "execution_count": 10,
      "metadata": {
        "colab": {
          "base_uri": "https://localhost:8080/",
          "height": 419
        },
        "id": "YxkVlyU2cqJA",
        "outputId": "722de2da-d662-4294-9c77-f69bd9bfe3f7"
      },
      "outputs": [
        {
          "data": {
            "text/html": [
              "<div>\n",
              "<style scoped>\n",
              "    .dataframe tbody tr th:only-of-type {\n",
              "        vertical-align: middle;\n",
              "    }\n",
              "\n",
              "    .dataframe tbody tr th {\n",
              "        vertical-align: top;\n",
              "    }\n",
              "\n",
              "    .dataframe thead th {\n",
              "        text-align: right;\n",
              "    }\n",
              "</style>\n",
              "<table border=\"1\" class=\"dataframe\">\n",
              "  <thead>\n",
              "    <tr style=\"text-align: right;\">\n",
              "      <th></th>\n",
              "      <th>Text Description</th>\n",
              "      <th>Books</th>\n",
              "      <th>Clothing &amp; Accessories</th>\n",
              "      <th>Electronics</th>\n",
              "      <th>Household</th>\n",
              "    </tr>\n",
              "  </thead>\n",
              "  <tbody>\n",
              "    <tr>\n",
              "      <th>0</th>\n",
              "      <td>SAF 'Floral' Framed Painting (Wood, 30 inch x ...</td>\n",
              "      <td>False</td>\n",
              "      <td>False</td>\n",
              "      <td>False</td>\n",
              "      <td>True</td>\n",
              "    </tr>\n",
              "    <tr>\n",
              "      <th>1</th>\n",
              "      <td>SAF 'UV Textured Modern Art Print Framed' Pain...</td>\n",
              "      <td>False</td>\n",
              "      <td>False</td>\n",
              "      <td>False</td>\n",
              "      <td>True</td>\n",
              "    </tr>\n",
              "    <tr>\n",
              "      <th>2</th>\n",
              "      <td>SAF Flower Print Framed Painting (Synthetic, 1...</td>\n",
              "      <td>False</td>\n",
              "      <td>False</td>\n",
              "      <td>False</td>\n",
              "      <td>True</td>\n",
              "    </tr>\n",
              "    <tr>\n",
              "      <th>3</th>\n",
              "      <td>Incredible Gifts India Wooden Happy Birthday U...</td>\n",
              "      <td>False</td>\n",
              "      <td>False</td>\n",
              "      <td>False</td>\n",
              "      <td>True</td>\n",
              "    </tr>\n",
              "    <tr>\n",
              "      <th>4</th>\n",
              "      <td>Pitaara Box Romantic Venice Canvas Painting 6m...</td>\n",
              "      <td>False</td>\n",
              "      <td>False</td>\n",
              "      <td>False</td>\n",
              "      <td>True</td>\n",
              "    </tr>\n",
              "    <tr>\n",
              "      <th>...</th>\n",
              "      <td>...</td>\n",
              "      <td>...</td>\n",
              "      <td>...</td>\n",
              "      <td>...</td>\n",
              "      <td>...</td>\n",
              "    </tr>\n",
              "    <tr>\n",
              "      <th>50419</th>\n",
              "      <td>Strontium MicroSD Class 10 8GB Memory Card (Bl...</td>\n",
              "      <td>False</td>\n",
              "      <td>False</td>\n",
              "      <td>True</td>\n",
              "      <td>False</td>\n",
              "    </tr>\n",
              "    <tr>\n",
              "      <th>50420</th>\n",
              "      <td>CrossBeats Wave Waterproof Bluetooth Wireless ...</td>\n",
              "      <td>False</td>\n",
              "      <td>False</td>\n",
              "      <td>True</td>\n",
              "      <td>False</td>\n",
              "    </tr>\n",
              "    <tr>\n",
              "      <th>50421</th>\n",
              "      <td>Karbonn Titanium Wind W4 (White) Karbonn Titan...</td>\n",
              "      <td>False</td>\n",
              "      <td>False</td>\n",
              "      <td>True</td>\n",
              "      <td>False</td>\n",
              "    </tr>\n",
              "    <tr>\n",
              "      <th>50422</th>\n",
              "      <td>Samsung Guru FM Plus (SM-B110E/D, Black) Colou...</td>\n",
              "      <td>False</td>\n",
              "      <td>False</td>\n",
              "      <td>True</td>\n",
              "      <td>False</td>\n",
              "    </tr>\n",
              "    <tr>\n",
              "      <th>50423</th>\n",
              "      <td>Micromax Canvas Win W121 (White)</td>\n",
              "      <td>False</td>\n",
              "      <td>False</td>\n",
              "      <td>True</td>\n",
              "      <td>False</td>\n",
              "    </tr>\n",
              "  </tbody>\n",
              "</table>\n",
              "<p>50424 rows × 5 columns</p>\n",
              "</div>"
            ],
            "text/plain": [
              "                                        Text Description  Books  \\\n",
              "0      SAF 'Floral' Framed Painting (Wood, 30 inch x ...  False   \n",
              "1      SAF 'UV Textured Modern Art Print Framed' Pain...  False   \n",
              "2      SAF Flower Print Framed Painting (Synthetic, 1...  False   \n",
              "3      Incredible Gifts India Wooden Happy Birthday U...  False   \n",
              "4      Pitaara Box Romantic Venice Canvas Painting 6m...  False   \n",
              "...                                                  ...    ...   \n",
              "50419  Strontium MicroSD Class 10 8GB Memory Card (Bl...  False   \n",
              "50420  CrossBeats Wave Waterproof Bluetooth Wireless ...  False   \n",
              "50421  Karbonn Titanium Wind W4 (White) Karbonn Titan...  False   \n",
              "50422  Samsung Guru FM Plus (SM-B110E/D, Black) Colou...  False   \n",
              "50423                   Micromax Canvas Win W121 (White)  False   \n",
              "\n",
              "       Clothing & Accessories  Electronics  Household  \n",
              "0                       False        False       True  \n",
              "1                       False        False       True  \n",
              "2                       False        False       True  \n",
              "3                       False        False       True  \n",
              "4                       False        False       True  \n",
              "...                       ...          ...        ...  \n",
              "50419                   False         True      False  \n",
              "50420                   False         True      False  \n",
              "50421                   False         True      False  \n",
              "50422                   False         True      False  \n",
              "50423                   False         True      False  \n",
              "\n",
              "[50424 rows x 5 columns]"
            ]
          },
          "execution_count": 10,
          "metadata": {},
          "output_type": "execute_result"
        }
      ],
      "source": [
        "category = pd.get_dummies(df.category)\n",
        "df_baru = pd.concat([df, category], axis=1)\n",
        "df_baru = df_baru.drop(columns='category')\n",
        "df_baru"
      ]
    },
    {
      "cell_type": "code",
      "execution_count": 11,
      "metadata": {
        "colab": {
          "base_uri": "https://localhost:8080/"
        },
        "id": "8PXge_4AxmVL",
        "outputId": "abac7b11-4626-4861-9356-1dda46f1e494"
      },
      "outputs": [
        {
          "data": {
            "text/plain": [
              "Index(['Text Description', 'Books', 'Clothing & Accessories', 'Electronics',\n",
              "       'Household'],\n",
              "      dtype='object')"
            ]
          },
          "execution_count": 11,
          "metadata": {},
          "output_type": "execute_result"
        }
      ],
      "source": [
        "df_baru.columns"
      ]
    },
    {
      "cell_type": "markdown",
      "metadata": {
        "id": "_a2duq_dcqJB"
      },
      "source": [
        "## Modelling"
      ]
    },
    {
      "cell_type": "code",
      "execution_count": 12,
      "metadata": {
        "id": "OH0b2ZjV2kC0"
      },
      "outputs": [],
      "source": [
        "desc = df_baru['Text Description'].values\n",
        "label = df_baru[['Books', 'Clothing & Accessories', 'Electronics',\n",
        "       'Household']].values"
      ]
    },
    {
      "cell_type": "code",
      "execution_count": 13,
      "metadata": {
        "id": "b8YDLJTDy1ec"
      },
      "outputs": [],
      "source": [
        "import re\n",
        "from nltk.tokenize import word_tokenize\n",
        "\n",
        "\n",
        "def remove_numbers(text):\n",
        "    if isinstance(text, str):\n",
        "        words = word_tokenize(text)\n",
        "        words_without_numbers = [word for word in words if not re.match(r'\\d', word)]\n",
        "        cleaned_text = ' '.join(words_without_numbers)\n",
        "        return cleaned_text\n",
        "    else:\n",
        "        return str(text)"
      ]
    },
    {
      "cell_type": "code",
      "execution_count": 14,
      "metadata": {
        "colab": {
          "base_uri": "https://localhost:8080/"
        },
        "id": "x58VOJRcy6Xr",
        "outputId": "6546fbef-2a94-436f-a4f1-5587166cd0a2"
      },
      "outputs": [
        {
          "name": "stdout",
          "output_type": "stream",
          "text": [
            "[\"SAF 'Floral ' Framed Painting ( Wood , inch x inch , Special Effect UV Print Textured , SAO297 ) Painting made up in synthetic frame with UV textured print which gives multi effects and attracts towards it . This is an special series of paintings which makes your wall very beautiful and gives a royal touch ( A perfect gift for your special ones ) .\"\n",
            " \"SAF 'UV Textured Modern Art Print Framed ' Painting ( Synthetic , cm x cm x cm , Set of ) Color : Multicolor | Size:35 cm x cm x cm Overview a beautiful painting involves the action or skill of using paint in the right manner ; hence , the end product will be a picture that can speak a thousand words they say . Arts have been in trend for quite some time now . It can give different viewer different meanings style and design the SAF wood matte abstract painting with frame is quite abstract and mysteriously beautiful . The painting has a nice frame to it . You can gift this to a family or a friend . The painting has various forms of certain figures on it as seen in the image . You can add a good set of lights to the place where the painting is and the decor will give a different feel and look to the place . Quality and durability the painting has a matte finish and includes a good quality frame and will last for a long period . However , it does not include glass along with the frame . Specifications you can purchase SAF wood matte abstract painting with frame on amazon.in . It is the most customer-friendly platform with a wide range of products to choose from , and shopping is just a click away !\"\n",
            " 'SAF Flower Print Framed Painting ( Synthetic , inch x inch , UV Textured , Set of , SANFSW4951 ) Color : Multicolor | Size:35 cm x cm x cm A beautiful painting involves the action or skill of using paint in the right manner , hence , the end product will be a picture that can speak a thousand words they say . Arts have been in trend for quite some time now . It can give different viewer different meanings style and design the saf wood matte painting with frame is quite abstract and mysteriously beautiful . The painting has a nice frame to it . You can gift this to a family or a friend . The painting has various forms of certain figures on it as seen in the image . You can add a good set of lights to the place where the painting is and the decor will give a different feel and look to the place . Quality and durability the painting has a matte finish and includes a good quality frame and will last for a long period . However , it does not include glass along with the frame .'\n",
            " ...\n",
            " 'Karbonn Titanium Wind W4 ( White ) Karbonn Titanium Wind W4 Efficient Performance A power packed Windows phone that is pocket friendly , it is the Karbonn Titanium Wind W4 . With its MB RAM , this phone works smoothly with its Window operating system which is efficient and user friendly . It has a high speed GHz Qaud Core processor for lag-free operations . It is equipped with GB internal storage capacity which can be expanded up to GB with an external SD card . With so much of advanced technology , this smartphone is quite within the reach of your budget . Sleek Design and Stunning Camera The efficiency of this device is not restricted to its performance . The efficient design with its compact dimensions , x x cm , and light weight , g , makes it ergonomics and easy to hold avoiding accidental slips or drops . The white bezel is elegant and professional . The inches LCD display has a resolution of x pixels for a colourful and clear picture quality . It has a pixel density of ppi . It has a MP rear camera with autofocus . It is accompanied with an LED flash for bright pictures even in low light conditions . It is loaded with a MP front camera for selfies , video calling and more . Battery Backup and Connectivity Powered by mAh Lithium-ion battery , gives you a battery backup of up to hours of talk time and hours of standby time . It is Wi-Fi and Bluetooth enabled for high speed data connectivity and data transfer . It comes with USB cable , earphones , Battery , Charger , User manual and Warranty card . Grab the Karbonn Titanium Wind W4 to experience cost effective and superior performance .'\n",
            " 'Samsung Guru FM Plus ( SM-B110E/D , Black ) Colour : Black Compact Design If you are looking for a phone that is both simple and sturdy , checkout the Samsung Guru FM Plus SM-B110E/D Mobile Phone . At a pocket-friendly price , comes this plain black Feature Mobile Phone to serve all your basic needs . With the dependable trust of Samsung , moreover , you experience its glitch-free seamless functionality . Guru FM Plus Phone comes packed with MHz Single-Core Processor and MB RAM . Further , the Dual GSM SIM Mobile Phone is light-weight at gm and extremely easy-to-operate letting you stay connected with your friends and family always . Display and User-Friendly Interface This Samsung Guru Handset features inches TFT Display and gives you a vista of useful widgets . Owing to its K Colour Support , the screen looks colourfully radiant . Guru FM Plus Phone gives you immense comfort of view as well . Your recent calls streamline better . The major menu icons are more user-responsive . And , your missed calls and SMS notifications are visible from the upgraded locked screen . Its navigation keys allow you to conveniently scroll through the Phone functions . Exterior From the front , the keys and the two vertical sides of Samsung Guru FM Plus SM-B110E/D Feature Phone have silver lining that makes the Mobile Phone look attractive . It is encased in a leather-like texture at the rear side . Furthermore , the verges are curved and the leather-texture rear outer lets you hold the device safely with firm grip . This Samsung Guru FM Plus is also available in white and dark blue versions . Built-In Features The Samsung Guru FM Plus SM-B110E/D Feature Mobile Phone is fitted with some great in-built features . You can enjoy FM radio channels or listen to MP3 and MIDI format songs . You also have beautiful nature-wallpapers that come with this Mobile Phone to deck your home screen . For power back-up , Samsung Guru mAh battery provides you hours talk-time on GSM .'\n",
            " 'Micromax Canvas Win W121 ( White )']\n"
          ]
        }
      ],
      "source": [
        "import numpy as np\n",
        "\n",
        "remove_numbers_vectorized = np.vectorize(remove_numbers)\n",
        "desc = remove_numbers_vectorized(desc)\n",
        "\n",
        "# Display the modified NumPy array\n",
        "print(desc)"
      ]
    },
    {
      "cell_type": "code",
      "execution_count": 15,
      "metadata": {
        "id": "89t_nQ_9cqJB"
      },
      "outputs": [],
      "source": [
        "desc_latih, desc_test, label_latih, label_test = train_test_split(desc, label, test_size=0.2)"
      ]
    },
    {
      "cell_type": "code",
      "execution_count": 16,
      "metadata": {
        "id": "v7KxzC9vcqJB"
      },
      "outputs": [],
      "source": [
        "tokenizer = Tokenizer(num_words=5000, oov_token='oov')\n",
        "tokenizer.fit_on_texts(desc_latih)\n",
        "tokenizer.fit_on_texts(desc_test)\n",
        "\n",
        "# mengurutkan kalimat untuk di tokenizer\n",
        "sekuens_latih = tokenizer.texts_to_sequences(desc_latih)\n",
        "sekuens_test = tokenizer.texts_to_sequences(desc_test)\n",
        "\n",
        " # memastikan setiap tokenizer memiliki panjang yang sama\n",
        "padded_latih = pad_sequences(sekuens_latih, truncating='post')\n",
        "padded_test = pad_sequences(sekuens_test, truncating='post')"
      ]
    },
    {
      "cell_type": "code",
      "execution_count": 17,
      "metadata": {
        "id": "p6Y4jsPKcqJC"
      },
      "outputs": [
        {
          "name": "stdout",
          "output_type": "stream",
          "text": [
            "WARNING:tensorflow:From c:\\Users\\Hasnan Ramadhan\\anaconda3\\Lib\\site-packages\\keras\\src\\backend.py:873: The name tf.get_default_graph is deprecated. Please use tf.compat.v1.get_default_graph instead.\n",
            "\n"
          ]
        }
      ],
      "source": [
        "from tensorflow.keras.optimizers import Adam\n",
        "\n",
        "model = tf.keras.Sequential([\n",
        "    tf.keras.layers.Embedding(input_dim=5000, output_dim=20),\n",
        "    tf.keras.layers.LSTM(64),\n",
        "    tf.keras.layers.Dense(128, activation='relu'),\n",
        "    tf.keras.layers.Dropout(0.25),\n",
        "    tf.keras.layers.Dense(64, activation='relu'),\n",
        "    tf.keras.layers.Dropout(0.25),\n",
        "    tf.keras.layers.Dense(4, activation='softmax')\n",
        "])\n",
        "model.compile(loss='categorical_crossentropy',optimizer=Adam(learning_rate=0.001),metrics=['accuracy'])"
      ]
    },
    {
      "cell_type": "code",
      "execution_count": 18,
      "metadata": {
        "id": "Arj44tVGcqJC"
      },
      "outputs": [
        {
          "name": "stdout",
          "output_type": "stream",
          "text": [
            "Model: \"sequential\"\n",
            "_________________________________________________________________\n",
            " Layer (type)                Output Shape              Param #   \n",
            "=================================================================\n",
            " embedding (Embedding)       (None, None, 20)          100000    \n",
            "                                                                 \n",
            " lstm (LSTM)                 (None, 64)                21760     \n",
            "                                                                 \n",
            " dense (Dense)               (None, 128)               8320      \n",
            "                                                                 \n",
            " dropout (Dropout)           (None, 128)               0         \n",
            "                                                                 \n",
            " dense_1 (Dense)             (None, 64)                8256      \n",
            "                                                                 \n",
            " dropout_1 (Dropout)         (None, 64)                0         \n",
            "                                                                 \n",
            " dense_2 (Dense)             (None, 4)                 260       \n",
            "                                                                 \n",
            "=================================================================\n",
            "Total params: 138596 (541.39 KB)\n",
            "Trainable params: 138596 (541.39 KB)\n",
            "Non-trainable params: 0 (0.00 Byte)\n",
            "_________________________________________________________________\n",
            "None\n"
          ]
        }
      ],
      "source": [
        "print(model.summary())"
      ]
    },
    {
      "cell_type": "code",
      "execution_count": 20,
      "metadata": {
        "id": "TbuFC0kVcqJC"
      },
      "outputs": [
        {
          "name": "stdout",
          "output_type": "stream",
          "text": [
            "Epoch 1/20\n",
            "50/50 [==============================] - 222s 4s/step - loss: 1.1578 - accuracy: 0.5106 - val_loss: 0.9847 - val_accuracy: 0.5375\n",
            "Epoch 2/20\n",
            "50/50 [==============================] - 205s 4s/step - loss: 0.8683 - accuracy: 0.5987 - val_loss: 0.9603 - val_accuracy: 0.5875\n",
            "Epoch 3/20\n",
            "50/50 [==============================] - 211s 4s/step - loss: 0.8118 - accuracy: 0.6725 - val_loss: 0.8121 - val_accuracy: 0.6687\n",
            "Epoch 4/20\n",
            "50/50 [==============================] - 226s 5s/step - loss: 0.6717 - accuracy: 0.7531 - val_loss: 0.6436 - val_accuracy: 0.8000\n",
            "Epoch 5/20\n",
            "50/50 [==============================] - 241s 5s/step - loss: 0.5707 - accuracy: 0.8087 - val_loss: 0.5639 - val_accuracy: 0.8250\n",
            "Epoch 6/20\n",
            "50/50 [==============================] - 205s 4s/step - loss: 0.4930 - accuracy: 0.8300 - val_loss: 0.5032 - val_accuracy: 0.8562\n",
            "Epoch 7/20\n",
            "50/50 [==============================] - 248s 5s/step - loss: 0.4506 - accuracy: 0.8562 - val_loss: 0.4193 - val_accuracy: 0.8562\n",
            "Epoch 8/20\n",
            "50/50 [==============================] - 272s 5s/step - loss: 0.4273 - accuracy: 0.8763 - val_loss: 0.4089 - val_accuracy: 0.8813\n",
            "Epoch 9/20\n",
            "50/50 [==============================] - 276s 6s/step - loss: 0.3431 - accuracy: 0.9112 - val_loss: 0.3749 - val_accuracy: 0.8875\n",
            "Epoch 10/20\n",
            "50/50 [==============================] - 235s 5s/step - loss: 0.3096 - accuracy: 0.9181 - val_loss: 0.3196 - val_accuracy: 0.9187\n",
            "Epoch 11/20\n",
            "50/50 [==============================] - 242s 5s/step - loss: 0.2486 - accuracy: 0.9331 - val_loss: 0.2781 - val_accuracy: 0.9375\n",
            "Epoch 12/20\n",
            "50/50 [==============================] - 252s 5s/step - loss: 0.2816 - accuracy: 0.9231 - val_loss: 0.2962 - val_accuracy: 0.9375\n",
            "Epoch 13/20\n",
            "50/50 [==============================] - 243s 5s/step - loss: 0.2764 - accuracy: 0.9362 - val_loss: 0.2167 - val_accuracy: 0.9438\n",
            "Epoch 14/20\n",
            "50/50 [==============================] - 241s 5s/step - loss: 0.2821 - accuracy: 0.9312 - val_loss: 0.2014 - val_accuracy: 0.9563\n",
            "Epoch 15/20\n",
            "50/50 [==============================] - 277s 6s/step - loss: 0.2697 - accuracy: 0.9369 - val_loss: 0.2212 - val_accuracy: 0.9438\n",
            "Epoch 16/20\n",
            "50/50 [==============================] - 276s 6s/step - loss: 0.2630 - accuracy: 0.9350 - val_loss: 0.2204 - val_accuracy: 0.9438\n",
            "Epoch 17/20\n",
            "50/50 [==============================] - 238s 5s/step - loss: 0.3113 - accuracy: 0.9244 - val_loss: 0.1604 - val_accuracy: 0.9563\n",
            "Epoch 18/20\n",
            "50/50 [==============================] - 239s 5s/step - loss: 0.3012 - accuracy: 0.9306 - val_loss: 0.1918 - val_accuracy: 0.9625\n",
            "Epoch 19/20\n",
            "50/50 [==============================] - 254s 5s/step - loss: 0.2847 - accuracy: 0.9231 - val_loss: 0.2741 - val_accuracy: 0.9125\n",
            "Epoch 20/20\n",
            "50/50 [==============================] - 227s 5s/step - loss: 0.2208 - accuracy: 0.9444 - val_loss: 0.2524 - val_accuracy: 0.9312\n"
          ]
        }
      ],
      "source": [
        "from tensorflow.keras.callbacks import EarlyStopping\n",
        "\n",
        "early_stopping = EarlyStopping(monitor='val_loss', patience=5, restore_best_weights=True)\n",
        "\n",
        "history = model.fit(\n",
        "    padded_latih,\n",
        "    label_latih,\n",
        "    epochs=20,\n",
        "    batch_size=32,\n",
        "    steps_per_epoch=50,\n",
        "    validation_data=(padded_test, label_test),\n",
        "    validation_steps=5,\n",
        "    callbacks=[early_stopping],\n",
        "    verbose=1\n",
        ")"
      ]
    },
    {
      "cell_type": "code",
      "execution_count": 21,
      "metadata": {},
      "outputs": [
        {
          "data": {
            "image/png": "[encoded data removed]",
            "text/plain": [
              "<Figure size 1200x800 with 2 Axes>"
            ]
          },
          "metadata": {},
          "output_type": "display_data"
        }
      ],
      "source": [
        "import matplotlib.pyplot as plt\n",
        "\n",
        "# Plot training and validation loss\n",
        "plt.figure(figsize=(12, 8))\n",
        "\n",
        "plt.subplot(1, 2, 1)\n",
        "plt.plot(history.history['loss'], label='Training Loss')\n",
        "plt.plot(history.history['val_loss'], label='Validation Loss')\n",
        "plt.title('Training and Validation Loss')\n",
        "plt.xlabel('Epoch')\n",
        "plt.ylabel('Loss')\n",
        "plt.legend()\n",
        "\n",
        "# Plot training and validation accuracy\n",
        "plt.subplot(1, 2, 2)\n",
        "plt.plot(history.history['accuracy'], label='Training Accuracy')\n",
        "plt.plot(history.history['val_accuracy'], label='Validation Accuracy')\n",
        "plt.title('Training and Validation Accuracy')\n",
        "plt.xlabel('Epoch')\n",
        "plt.ylabel('Accuracy')\n",
        "plt.legend()\n",
        "\n",
        "plt.tight_layout()\n",
        "plt.show()"
      ]
    }
  ],
  "metadata": {
    "accelerator": "GPU",
    "colab": {
      "gpuType": "T4",
      "provenance": []
    },
    "kernelspec": {
      "display_name": "Python 3",
      "name": "python3"
    },
    "language_info": {
      "codemirror_mode": {
        "name": "ipython",
        "version": 3
      },
      "file_extension": ".py",
      "mimetype": "text/x-python",
      "name": "python",
      "nbconvert_exporter": "python",
      "pygments_lexer": "ipython3",
      "version": "3.11.5"
    }
  },
  "nbformat": 4,
  "nbformat_minor": 0
}
